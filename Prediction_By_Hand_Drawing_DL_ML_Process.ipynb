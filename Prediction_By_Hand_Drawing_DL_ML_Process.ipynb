{
  "metadata": {
    "kernelspec": {
      "language": "python",
      "display_name": "Python 3",
      "name": "python3"
    },
    "language_info": {
      "pygments_lexer": "ipython3",
      "nbconvert_exporter": "python",
      "version": "3.6.4",
      "file_extension": ".py",
      "codemirror_mode": {
        "name": "ipython",
        "version": 3
      },
      "name": "python",
      "mimetype": "text/x-python"
    },
    "colab": {
      "provenance": [],
      "include_colab_link": true
    }
  },
  "nbformat_minor": 0,
  "nbformat": 4,
  "cells": [
    {
      "cell_type": "markdown",
      "metadata": {
        "id": "view-in-github",
        "colab_type": "text"
      },
      "source": [
        "<a href=\"https://colab.research.google.com/github/Vasundhara-Boomi/Prediction-of-Neurodegenerative-disease-by-Hand-Drawing/blob/main/Prediction_By_Hand_Drawing_DL_ML_Process.ipynb\" target=\"_parent\"><img src=\"https://colab.research.google.com/assets/colab-badge.svg\" alt=\"Open In Colab\"/></a>"
      ]
    },
    {
      "source": [
        "\n",
        "# IMPORTANT: RUN THIS CELL IN ORDER TO IMPORT YOUR KAGGLE DATA SOURCES\n",
        "# TO THE CORRECT LOCATION (/kaggle/input) IN YOUR NOTEBOOK,\n",
        "# THEN FEEL FREE TO DELETE THIS CELL.\n",
        "# NOTE: THIS NOTEBOOK ENVIRONMENT DIFFERS FROM KAGGLE'S PYTHON\n",
        "# ENVIRONMENT SO THERE MAY BE MISSING LIBRARIES USED BY YOUR\n",
        "# NOTEBOOK.\n",
        "\n",
        "import os\n",
        "import sys\n",
        "from tempfile import NamedTemporaryFile\n",
        "from urllib.request import urlopen\n",
        "from urllib.parse import unquote, urlparse\n",
        "from urllib.error import HTTPError\n",
        "from zipfile import ZipFile\n",
        "import tarfile\n",
        "import shutil\n",
        "\n",
        "CHUNK_SIZE = 40960\n",
        "DATA_SOURCE_MAPPING = 'parkinsons-drawings:https%3A%2F%2Fstorage.googleapis.com%2Fkaggle-data-sets%2F178338%2F401677%2Fbundle%2Farchive.zip%3FX-Goog-Algorithm%3DGOOG4-RSA-SHA256%26X-Goog-Credential%3Dgcp-kaggle-com%2540kaggle-161607.iam.gserviceaccount.com%252F20240501%252Fauto%252Fstorage%252Fgoog4_request%26X-Goog-Date%3D20240501T083452Z%26X-Goog-Expires%3D259200%26X-Goog-SignedHeaders%3Dhost%26X-Goog-Signature%3D49a001df583cc397e372b01e50467fa5e3240aba35b111bce587e4a151ca4c2b015f6da7acbbf455c604f5be9f7b047f42f5a77b2e73ddc35538a88d28647624085c301383f83511fc24ad2acad8cc998634042d513fa62f66be889e7dd23bc485293c63fa6233f9cef7b2961b35f41e0a693d295efbc510befcdadc7fc2b60a35bb61891c1a7f93c0b116e0e13f423fa3e4b2c2df93922c8f6d8a2211010239be8fa8cd21f51f4706f93d216a68fdd5028cc9af7ef2dee5edc04a64f354c8929b59ff133d021baa2a88615219cd5ebbccc9d0949126238b6b2d27d2fba9c66a705b2e06e3b1cd95eeee0a9df092d6ffa563dd980e9fd178121a8de33ac21730'\n",
        "\n",
        "KAGGLE_INPUT_PATH='/kaggle/input'\n",
        "KAGGLE_WORKING_PATH='/kaggle/working'\n",
        "KAGGLE_SYMLINK='kaggle'\n",
        "\n",
        "!umount /kaggle/input/ 2> /dev/null\n",
        "shutil.rmtree('/kaggle/input', ignore_errors=True)\n",
        "os.makedirs(KAGGLE_INPUT_PATH, 0o777, exist_ok=True)\n",
        "os.makedirs(KAGGLE_WORKING_PATH, 0o777, exist_ok=True)\n",
        "\n",
        "try:\n",
        "  os.symlink(KAGGLE_INPUT_PATH, os.path.join(\"..\", 'input'), target_is_directory=True)\n",
        "except FileExistsError:\n",
        "  pass\n",
        "try:\n",
        "  os.symlink(KAGGLE_WORKING_PATH, os.path.join(\"..\", 'working'), target_is_directory=True)\n",
        "except FileExistsError:\n",
        "  pass\n",
        "\n",
        "for data_source_mapping in DATA_SOURCE_MAPPING.split(','):\n",
        "    directory, download_url_encoded = data_source_mapping.split(':')\n",
        "    download_url = unquote(download_url_encoded)\n",
        "    filename = urlparse(download_url).path\n",
        "    destination_path = os.path.join(KAGGLE_INPUT_PATH, directory)\n",
        "    try:\n",
        "        with urlopen(download_url) as fileres, NamedTemporaryFile() as tfile:\n",
        "            total_length = fileres.headers['content-length']\n",
        "            print(f'Downloading {directory}, {total_length} bytes compressed')\n",
        "            dl = 0\n",
        "            data = fileres.read(CHUNK_SIZE)\n",
        "            while len(data) > 0:\n",
        "                dl += len(data)\n",
        "                tfile.write(data)\n",
        "                done = int(50 * dl / int(total_length))\n",
        "                sys.stdout.write(f\"\\r[{'=' * done}{' ' * (50-done)}] {dl} bytes downloaded\")\n",
        "                sys.stdout.flush()\n",
        "                data = fileres.read(CHUNK_SIZE)\n",
        "            if filename.endswith('.zip'):\n",
        "              with ZipFile(tfile) as zfile:\n",
        "                zfile.extractall(destination_path)\n",
        "            else:\n",
        "              with tarfile.open(tfile.name) as tarfile:\n",
        "                tarfile.extractall(destination_path)\n",
        "            print(f'\\nDownloaded and uncompressed: {directory}')\n",
        "    except HTTPError as e:\n",
        "        print(f'Failed to load (likely expired) {download_url} to path {destination_path}')\n",
        "        continue\n",
        "    except OSError as e:\n",
        "        print(f'Failed to load {download_url} to path {destination_path}')\n",
        "        continue\n",
        "\n",
        "print('Data source import complete.')\n"
      ],
      "metadata": {
        "id": "Jf5ob2YjSsye",
        "colab": {
          "base_uri": "https://localhost:8080/"
        },
        "outputId": "b78e8ce6-f46a-468f-89b5-b07cea5c879f"
      },
      "cell_type": "code",
      "outputs": [
        {
          "output_type": "stream",
          "name": "stdout",
          "text": [
            "Downloading parkinsons-drawings, 43444848 bytes compressed\n",
            "[==================================================] 43444848 bytes downloaded\n",
            "Downloaded and uncompressed: parkinsons-drawings\n",
            "Data source import complete.\n"
          ]
        }
      ],
      "execution_count": 1
    },
    {
      "cell_type": "markdown",
      "source": [
        "# HISTORY"
      ],
      "metadata": {
        "_uuid": "8f2839f25d086af736a60e9eeb907d3b93b6e0e5",
        "_cell_guid": "b1076dfc-b9ad-4769-8c92-a6c4dae69d19",
        "id": "ItrLHd-HSsyk"
      }
    },
    {
      "cell_type": "markdown",
      "source": [
        "#### Content\n",
        "* Images of healthy and patients with Parkinsons drawing spirals and waves. The images are further divided into training and testing groups for comparing (or reproducing) the results of the original publication.\n",
        "\n",
        "#### Acknowledgements\n",
        "* The data came from the paper: Zham P, Kumar DK, Dabnichki P, Poosapadi Arjunan S and Raghav S (2017) Distinguishing Different Stages of Parkinson’s Disease Using Composite Index of Speed and Pen-Pressure of Sketching a Spiral. Front. Neurol. 8:435. doi: 10.3389/fneur.2017.00435\n",
        "\n",
        "https://www.frontiersin.org/articles/10.3389/fneur.2017.00435/full"
      ],
      "metadata": {
        "id": "4tdUh1DOSsym"
      }
    },
    {
      "cell_type": "markdown",
      "source": [
        "# PACKAGES AND LIBRARIES"
      ],
      "metadata": {
        "id": "g_A-cGnWSsyn"
      }
    },
    {
      "cell_type": "code",
      "source": [
        "#GENERAL\n",
        "import pandas as pd\n",
        "import numpy as np\n",
        "import seaborn as sns\n",
        "import matplotlib.pyplot as plt\n",
        "#PATH PROCESS\n",
        "import os\n",
        "import os.path\n",
        "from pathlib import Path\n",
        "import glob\n",
        "#IMAGE PROCESS\n",
        "from PIL import Image\n",
        "from keras.preprocessing import image\n",
        "from tensorflow.keras.preprocessing.image import ImageDataGenerator\n",
        "import cv2\n",
        "#SCALER & TRANSFORMATION\n",
        "from sklearn.preprocessing import StandardScaler\n",
        "from sklearn.preprocessing import MinMaxScaler\n",
        "from keras.utils.np_utils import to_categorical\n",
        "from sklearn.model_selection import train_test_split\n",
        "from keras import regularizers\n",
        "from sklearn.preprocessing import LabelEncoder\n",
        "#ACCURACY CONTROL\n",
        "from sklearn.metrics import confusion_matrix, accuracy_score, classification_report, roc_auc_score, roc_curve\n",
        "from sklearn.model_selection import GridSearchCV, cross_val_score\n",
        "from sklearn.metrics import mean_squared_error, r2_score\n",
        "#OPTIMIZER\n",
        "from keras.optimizers import RMSprop,Adam,Optimizer,Optimizer\n",
        "#MODEL LAYERS\n",
        "from tensorflow.keras.models import Sequential\n",
        "from keras.layers import Dense, Dropout, Flatten, Conv2D, MaxPool2D, BatchNormalization,MaxPooling2D,BatchNormalization,\\\n",
        "                        Permute, TimeDistributed, Bidirectional,GRU, SimpleRNN, LSTM, GlobalAveragePooling2D, SeparableConv2D\n",
        "from keras import models\n",
        "from keras import layers\n",
        "import tensorflow as tf\n",
        "from keras.applications import VGG16,VGG19,inception_v3\n",
        "from keras import backend as K\n",
        "from keras.utils import plot_model\n",
        "#SKLEARN CLASSIFIER\n",
        "from xgboost import XGBClassifier, XGBRegressor\n",
        "from lightgbm import LGBMClassifier, LGBMRegressor\n",
        "from catboost import CatBoostClassifier, CatBoostRegressor\n",
        "from sklearn.linear_model import LogisticRegression\n",
        "from sklearn.naive_bayes import GaussianNB\n",
        "from sklearn.ensemble import RandomForestClassifier, RandomForestRegressor\n",
        "from sklearn.ensemble import GradientBoostingClassifier, GradientBoostingRegressor\n",
        "from sklearn.ensemble import BaggingRegressor\n",
        "from sklearn.tree import DecisionTreeClassifier, DecisionTreeRegressor\n",
        "from sklearn.neural_network import MLPClassifier, MLPRegressor\n",
        "from sklearn.neighbors import KNeighborsClassifier, KNeighborsRegressor\n",
        "from sklearn.linear_model import LinearRegression\n",
        "from sklearn.cross_decomposition import PLSRegression\n",
        "from sklearn.linear_model import Ridge\n",
        "from sklearn.linear_model import RidgeCV\n",
        "from sklearn.linear_model import Lasso\n",
        "from sklearn.linear_model import LassoCV\n",
        "from sklearn.linear_model import ElasticNet\n",
        "from sklearn.linear_model import ElasticNetCV\n",
        "\n",
        "#IGNORING WARNINGS\n",
        "from warnings import filterwarnings\n",
        "filterwarnings(\"ignore\",category=DeprecationWarning)\n",
        "filterwarnings(\"ignore\", category=FutureWarning)\n",
        "filterwarnings(\"ignore\", category=UserWarning)"
      ],
      "metadata": {
        "trusted": true,
        "id": "qNsfT1TpSsyo",
        "colab": {
          "base_uri": "https://localhost:8080/",
          "height": 384
        },
        "outputId": "126d82c1-d694-4e23-a5c2-47b0b78cc7bf"
      },
      "execution_count": 2,
      "outputs": [
        {
          "output_type": "error",
          "ename": "ModuleNotFoundError",
          "evalue": "No module named 'keras.utils.np_utils'",
          "traceback": [
            "\u001b[0;31m---------------------------------------------------------------------------\u001b[0m",
            "\u001b[0;31mModuleNotFoundError\u001b[0m                       Traceback (most recent call last)",
            "\u001b[0;32m<ipython-input-2-90b659310031>\u001b[0m in \u001b[0;36m<cell line: 19>\u001b[0;34m()\u001b[0m\n\u001b[1;32m     17\u001b[0m \u001b[0;32mfrom\u001b[0m \u001b[0msklearn\u001b[0m\u001b[0;34m.\u001b[0m\u001b[0mpreprocessing\u001b[0m \u001b[0;32mimport\u001b[0m \u001b[0mStandardScaler\u001b[0m\u001b[0;34m\u001b[0m\u001b[0;34m\u001b[0m\u001b[0m\n\u001b[1;32m     18\u001b[0m \u001b[0;32mfrom\u001b[0m \u001b[0msklearn\u001b[0m\u001b[0;34m.\u001b[0m\u001b[0mpreprocessing\u001b[0m \u001b[0;32mimport\u001b[0m \u001b[0mMinMaxScaler\u001b[0m\u001b[0;34m\u001b[0m\u001b[0;34m\u001b[0m\u001b[0m\n\u001b[0;32m---> 19\u001b[0;31m \u001b[0;32mfrom\u001b[0m \u001b[0mkeras\u001b[0m\u001b[0;34m.\u001b[0m\u001b[0mutils\u001b[0m\u001b[0;34m.\u001b[0m\u001b[0mnp_utils\u001b[0m \u001b[0;32mimport\u001b[0m \u001b[0mto_categorical\u001b[0m\u001b[0;34m\u001b[0m\u001b[0;34m\u001b[0m\u001b[0m\n\u001b[0m\u001b[1;32m     20\u001b[0m \u001b[0;32mfrom\u001b[0m \u001b[0msklearn\u001b[0m\u001b[0;34m.\u001b[0m\u001b[0mmodel_selection\u001b[0m \u001b[0;32mimport\u001b[0m \u001b[0mtrain_test_split\u001b[0m\u001b[0;34m\u001b[0m\u001b[0;34m\u001b[0m\u001b[0m\n\u001b[1;32m     21\u001b[0m \u001b[0;32mfrom\u001b[0m \u001b[0mkeras\u001b[0m \u001b[0;32mimport\u001b[0m \u001b[0mregularizers\u001b[0m\u001b[0;34m\u001b[0m\u001b[0;34m\u001b[0m\u001b[0m\n",
            "\u001b[0;31mModuleNotFoundError\u001b[0m: No module named 'keras.utils.np_utils'",
            "",
            "\u001b[0;31m---------------------------------------------------------------------------\u001b[0;32m\nNOTE: If your import is failing due to a missing package, you can\nmanually install dependencies using either !pip or !apt.\n\nTo view examples of installing some common dependencies, click the\n\"Open Examples\" button below.\n\u001b[0;31m---------------------------------------------------------------------------\u001b[0m\n"
          ],
          "errorDetails": {
            "actions": [
              {
                "action": "open_url",
                "actionText": "Open Examples",
                "url": "/notebooks/snippets/importing_libraries.ipynb"
              }
            ]
          }
        }
      ]
    },
    {
      "cell_type": "markdown",
      "source": [
        "# PATH & LABELS"
      ],
      "metadata": {
        "id": "JDW52WiPSsyo"
      }
    },
    {
      "cell_type": "markdown",
      "source": [
        "#### TRAIN-TEST PATH"
      ],
      "metadata": {
        "id": "A6nwAD5PSsyp"
      }
    },
    {
      "cell_type": "code",
      "source": [
        "Spiral_Train_Path = Path(\"../input/parkinsons-drawings/spiral/training\")\n",
        "Spiral_Test_Path = Path(\"../input/parkinsons-drawings/spiral/testing\")"
      ],
      "metadata": {
        "trusted": true,
        "id": "To8kVO0tSsyq"
      },
      "execution_count": null,
      "outputs": []
    },
    {
      "cell_type": "code",
      "source": [
        "Spiral_Train_PNG_Path = list(Spiral_Train_Path.glob(r\"*/*.png\"))\n",
        "Spiral_Test_PNG_Path = list(Spiral_Test_Path.glob(r\"*/*.png\"))"
      ],
      "metadata": {
        "trusted": true,
        "id": "UXL3e2KuSsyr"
      },
      "execution_count": null,
      "outputs": []
    },
    {
      "cell_type": "markdown",
      "source": [
        "#### LABELS"
      ],
      "metadata": {
        "id": "nQHhhqS4Ssys"
      }
    },
    {
      "cell_type": "code",
      "source": [
        "Spiral_Train_PNG_Labels = list(map(lambda x: os.path.split(os.path.split(x)[0])[1],Spiral_Train_PNG_Path))\n",
        "Spiral_Test_PNG_Labels = list(map(lambda x: os.path.split(os.path.split(x)[0])[1],Spiral_Test_PNG_Path))"
      ],
      "metadata": {
        "trusted": true,
        "id": "_cA61aBYSsyt"
      },
      "execution_count": null,
      "outputs": []
    },
    {
      "cell_type": "markdown",
      "source": [
        "# TRANSFORMATION TO SERIES STRUCTURE"
      ],
      "metadata": {
        "id": "8HaBT1ujSsyt"
      }
    },
    {
      "cell_type": "markdown",
      "source": [
        "#### SPIRAL"
      ],
      "metadata": {
        "id": "QJajvUA_Ssyt"
      }
    },
    {
      "cell_type": "code",
      "source": [
        "Spiral_Train_PNG_Path_Series = pd.Series(Spiral_Train_PNG_Path,name=\"PNG\").astype(str)\n",
        "Spiral_Train_PNG_Labels_Series = pd.Series(Spiral_Train_PNG_Labels,name=\"CATEGORY\")"
      ],
      "metadata": {
        "trusted": true,
        "id": "JZCWkAQDSsyu"
      },
      "execution_count": null,
      "outputs": []
    },
    {
      "cell_type": "code",
      "source": [
        "Spiral_Test_PNG_Path_Series = pd.Series(Spiral_Test_PNG_Path,name=\"PNG\").astype(str)\n",
        "Spiral_Test_PNG_Labels_Series = pd.Series(Spiral_Test_PNG_Labels,name=\"CATEGORY\")"
      ],
      "metadata": {
        "trusted": true,
        "id": "OdPC1KvYSsyu"
      },
      "execution_count": null,
      "outputs": []
    },
    {
      "cell_type": "markdown",
      "source": [
        "# TRANSFORMATION TO DATAFRAME STRUCTURE"
      ],
      "metadata": {
        "id": "VyMN_MT0Ssyu"
      }
    },
    {
      "cell_type": "markdown",
      "source": [
        "#### SPIRAL"
      ],
      "metadata": {
        "id": "66gTNjJXSsyu"
      }
    },
    {
      "cell_type": "code",
      "source": [
        "Main_Spiral_Train_Data = pd.concat([Spiral_Train_PNG_Path_Series,Spiral_Train_PNG_Labels_Series],axis=1)"
      ],
      "metadata": {
        "trusted": true,
        "id": "yt2FyVq2Ssyv"
      },
      "execution_count": null,
      "outputs": []
    },
    {
      "cell_type": "code",
      "source": [
        "print(Main_Spiral_Train_Data.head(-1))"
      ],
      "metadata": {
        "trusted": true,
        "id": "jflf0l_nSsyv"
      },
      "execution_count": null,
      "outputs": []
    },
    {
      "cell_type": "code",
      "source": [
        "Main_Spiral_Test_Data = pd.concat([Spiral_Test_PNG_Path_Series,Spiral_Test_PNG_Labels_Series],axis=1)"
      ],
      "metadata": {
        "trusted": true,
        "id": "6HILFv02Ssyv"
      },
      "execution_count": null,
      "outputs": []
    },
    {
      "cell_type": "code",
      "source": [
        "print(Main_Spiral_Test_Data.head(-1))"
      ],
      "metadata": {
        "trusted": true,
        "id": "fYnWRkqmSsyw"
      },
      "execution_count": null,
      "outputs": []
    },
    {
      "cell_type": "markdown",
      "source": [
        "# SHUFFLING"
      ],
      "metadata": {
        "id": "2WoH_U96Ssyw"
      }
    },
    {
      "cell_type": "code",
      "source": [
        "Main_Spiral_Train_Data = Main_Spiral_Train_Data.sample(frac=1).reset_index(drop=True)\n",
        "Main_Spiral_Test_Data = Main_Spiral_Test_Data.sample(frac=1).reset_index(drop=True)"
      ],
      "metadata": {
        "trusted": true,
        "id": "Ox8_Z9TVSsyw"
      },
      "execution_count": null,
      "outputs": []
    },
    {
      "cell_type": "code",
      "source": [
        "print(Main_Spiral_Train_Data.head(-1))\n",
        "print(\"---\"*20)\n",
        "print(Main_Spiral_Test_Data.head(-1))"
      ],
      "metadata": {
        "trusted": true,
        "id": "5RbmkuwgSsyw"
      },
      "execution_count": null,
      "outputs": []
    },
    {
      "cell_type": "markdown",
      "source": [
        "# VISUALIZATION"
      ],
      "metadata": {
        "id": "cXk5DViZSsyx"
      }
    },
    {
      "cell_type": "code",
      "source": [
        "plt.style.use(\"dark_background\")"
      ],
      "metadata": {
        "trusted": true,
        "id": "No6tEHR8Ssyx"
      },
      "execution_count": null,
      "outputs": []
    },
    {
      "cell_type": "code",
      "source": [
        "sns.countplot(Main_Spiral_Train_Data[\"CATEGORY\"])\n",
        "plt.show()"
      ],
      "metadata": {
        "trusted": true,
        "id": "VXZyq50ySsyx"
      },
      "execution_count": null,
      "outputs": []
    },
    {
      "cell_type": "code",
      "source": [
        "sns.countplot(Main_Spiral_Test_Data[\"CATEGORY\"])\n",
        "plt.show()"
      ],
      "metadata": {
        "trusted": true,
        "id": "3etTRhNmSsyx"
      },
      "execution_count": null,
      "outputs": []
    },
    {
      "cell_type": "code",
      "source": [
        "Main_Spiral_Train_Data['CATEGORY'].value_counts().plot.pie(figsize=(7,7))\n",
        "plt.show()"
      ],
      "metadata": {
        "trusted": true,
        "id": "_dSTGPZuSsyx"
      },
      "execution_count": null,
      "outputs": []
    },
    {
      "cell_type": "code",
      "source": [
        "Main_Spiral_Test_Data['CATEGORY'].value_counts().plot.pie(figsize=(7,7))\n",
        "plt.show()"
      ],
      "metadata": {
        "trusted": true,
        "id": "D_FG_UrSSsyy"
      },
      "execution_count": null,
      "outputs": []
    },
    {
      "cell_type": "code",
      "source": [
        "figure = plt.figure(figsize=(10,10))\n",
        "x = plt.imread(Main_Spiral_Train_Data[\"PNG\"][0])\n",
        "plt.imshow(x)\n",
        "plt.xlabel(x.shape)\n",
        "plt.title(Main_Spiral_Train_Data[\"CATEGORY\"][0])"
      ],
      "metadata": {
        "trusted": true,
        "id": "Bp-dcX6SSsyy"
      },
      "execution_count": null,
      "outputs": []
    },
    {
      "cell_type": "code",
      "source": [
        "figure = plt.figure(figsize=(10,10))\n",
        "x = plt.imread(Main_Spiral_Test_Data[\"PNG\"][0])\n",
        "plt.imshow(x)\n",
        "plt.xlabel(x.shape)\n",
        "plt.title(Main_Spiral_Test_Data[\"CATEGORY\"][0])"
      ],
      "metadata": {
        "trusted": true,
        "id": "QN7g1oGlSsyy"
      },
      "execution_count": null,
      "outputs": []
    },
    {
      "cell_type": "code",
      "source": [
        "fig, axes = plt.subplots(nrows=5,\n",
        "                        ncols=5,\n",
        "                        figsize=(10,10),\n",
        "                        subplot_kw={\"xticks\":[],\"yticks\":[]})\n",
        "\n",
        "for i,ax in enumerate(axes.flat):\n",
        "    ax.imshow(plt.imread(Main_Spiral_Train_Data[\"PNG\"][i]))\n",
        "    ax.set_title(Main_Spiral_Train_Data[\"CATEGORY\"][i])\n",
        "plt.tight_layout()\n",
        "plt.show()"
      ],
      "metadata": {
        "trusted": true,
        "id": "Efw0B4etSsyz"
      },
      "execution_count": null,
      "outputs": []
    },
    {
      "cell_type": "code",
      "source": [
        "fig, axes = plt.subplots(nrows=5,\n",
        "                        ncols=5,\n",
        "                        figsize=(10,10),\n",
        "                        subplot_kw={\"xticks\":[],\"yticks\":[]})\n",
        "\n",
        "for i,ax in enumerate(axes.flat):\n",
        "    ax.imshow(plt.imread(Main_Spiral_Test_Data[\"PNG\"][i]))\n",
        "    ax.set_title(Main_Spiral_Test_Data[\"CATEGORY\"][i])\n",
        "plt.tight_layout()\n",
        "plt.show()"
      ],
      "metadata": {
        "trusted": true,
        "id": "_82L0aorSsyz"
      },
      "execution_count": null,
      "outputs": []
    },
    {
      "cell_type": "markdown",
      "source": [
        "# CLASSIFIERS"
      ],
      "metadata": {
        "id": "srY5_guvSsyz"
      }
    },
    {
      "cell_type": "markdown",
      "source": [
        "#### TRANSFORMATION"
      ],
      "metadata": {
        "id": "TRXWMlyvSsyz"
      }
    },
    {
      "cell_type": "code",
      "source": [
        "Spiral_New_JPG_Path = []\n",
        "for i in range(0,72):\n",
        "    x = cv2.imread(Main_Spiral_Train_Data[\"PNG\"][i])\n",
        "    x = np.array(x).astype(\"float32\")\n",
        "    x = x.mean()\n",
        "    Spiral_New_JPG_Path.append(x)"
      ],
      "metadata": {
        "trusted": true,
        "id": "iRUxK42rSsyz"
      },
      "execution_count": null,
      "outputs": []
    },
    {
      "cell_type": "code",
      "source": [
        "Spiral_New_JPG_Path_Series = pd.Series(Spiral_New_JPG_Path,name=\"PNG\")"
      ],
      "metadata": {
        "trusted": true,
        "id": "L6GXjeavSsy0"
      },
      "execution_count": null,
      "outputs": []
    },
    {
      "cell_type": "code",
      "source": [
        "print(Spiral_New_JPG_Path_Series)"
      ],
      "metadata": {
        "trusted": true,
        "id": "slPPtdNzSsy0"
      },
      "execution_count": null,
      "outputs": []
    },
    {
      "cell_type": "code",
      "source": [
        "encode = LabelEncoder()"
      ],
      "metadata": {
        "trusted": true,
        "id": "rsUxS2_dSsy5"
      },
      "execution_count": null,
      "outputs": []
    },
    {
      "cell_type": "code",
      "source": [
        "Spiral_New_JPG_Labels = encode.fit_transform(Main_Spiral_Train_Data[\"CATEGORY\"])"
      ],
      "metadata": {
        "trusted": true,
        "id": "nNmH6tnxSsy6"
      },
      "execution_count": null,
      "outputs": []
    },
    {
      "cell_type": "code",
      "source": [
        "Spiral_New_JPG_Labels_Series = pd.Series(Spiral_New_JPG_Labels,name=\"CATEGORY\")"
      ],
      "metadata": {
        "trusted": true,
        "id": "YVeu-H7VSsy6"
      },
      "execution_count": null,
      "outputs": []
    },
    {
      "cell_type": "code",
      "source": [
        "print(Spiral_New_JPG_Labels_Series)"
      ],
      "metadata": {
        "trusted": true,
        "id": "jQXPIe8_Ssy6"
      },
      "execution_count": null,
      "outputs": []
    },
    {
      "cell_type": "code",
      "source": [
        "Main_Spiral_New_Data = pd.concat([Spiral_New_JPG_Path_Series,Spiral_New_JPG_Labels_Series],axis=1)"
      ],
      "metadata": {
        "trusted": true,
        "id": "dYQL7AoVSsy6"
      },
      "execution_count": null,
      "outputs": []
    },
    {
      "cell_type": "code",
      "source": [
        "print(Main_Spiral_New_Data)"
      ],
      "metadata": {
        "trusted": true,
        "id": "iSdLsve2Ssy7"
      },
      "execution_count": null,
      "outputs": []
    },
    {
      "cell_type": "markdown",
      "source": [
        "#### TRAIN & TEST"
      ],
      "metadata": {
        "id": "rUmjvcZaSsy7"
      }
    },
    {
      "cell_type": "code",
      "source": [
        "x = Main_Spiral_New_Data[[\"PNG\"]]\n",
        "y = Main_Spiral_New_Data[\"CATEGORY\"]"
      ],
      "metadata": {
        "trusted": true,
        "id": "vtpY7BBYSsy7"
      },
      "execution_count": null,
      "outputs": []
    },
    {
      "cell_type": "code",
      "source": [
        "print(x.shape)"
      ],
      "metadata": {
        "trusted": true,
        "id": "zK4XuMqsSsy7"
      },
      "execution_count": null,
      "outputs": []
    },
    {
      "cell_type": "code",
      "source": [
        "print(y.shape)"
      ],
      "metadata": {
        "trusted": true,
        "id": "MuVRGh1iSsy8"
      },
      "execution_count": null,
      "outputs": []
    },
    {
      "cell_type": "code",
      "source": [
        "xTrain,xTest,yTrain,yTest = train_test_split(x,y,test_size=0.1,random_state=42)"
      ],
      "metadata": {
        "trusted": true,
        "id": "_f_xw0mUSsy8"
      },
      "execution_count": null,
      "outputs": []
    },
    {
      "cell_type": "code",
      "source": [
        "print(xTrain.shape)\n",
        "print(xTest.shape)\n",
        "print(yTrain.shape)\n",
        "print(yTest.shape)"
      ],
      "metadata": {
        "trusted": true,
        "id": "_uMJu3kTSsy8"
      },
      "execution_count": null,
      "outputs": []
    },
    {
      "cell_type": "markdown",
      "source": [
        "#### MODELS"
      ],
      "metadata": {
        "id": "xxs61i7OSsy8"
      }
    },
    {
      "cell_type": "code",
      "source": [
        "lj = LogisticRegression(solver=\"liblinear\").fit(xTrain,yTrain)\n",
        "gnb = GaussianNB().fit(xTrain,yTrain)\n",
        "knnc = KNeighborsClassifier().fit(xTrain,yTrain)\n",
        "cartc = DecisionTreeClassifier(random_state=42).fit(xTrain,yTrain)\n",
        "rfc = RandomForestClassifier(random_state=42,verbose=False).fit(xTrain,yTrain)\n",
        "gbmc = GradientBoostingClassifier(verbose=False).fit(xTrain,yTrain)\n",
        "xgbc = XGBClassifier().fit(xTrain,yTrain)\n",
        "lgbmc = LGBMClassifier().fit(xTrain,yTrain)\n",
        "catbc = CatBoostClassifier(verbose=False).fit(xTrain,yTrain)"
      ],
      "metadata": {
        "trusted": true,
        "id": "dxaAGCxdSsy8"
      },
      "execution_count": null,
      "outputs": []
    },
    {
      "cell_type": "code",
      "source": [
        "modelsc = [lj,gnb,knnc,cartc,rfc,gbmc,xgbc,lgbmc,catbc]"
      ],
      "metadata": {
        "trusted": true,
        "id": "Hdb7AVrmSsy9"
      },
      "execution_count": null,
      "outputs": []
    },
    {
      "cell_type": "code",
      "source": [
        "for model in modelsc:\n",
        "    name = model.__class__.__name__\n",
        "    predict = model.predict(xTest)\n",
        "    R2CV = cross_val_score(model,xTest,yTest,verbose=False).mean()\n",
        "    error = -cross_val_score(model,xTest,yTest,scoring=\"neg_mean_squared_error\",verbose=False).mean()\n",
        "    print(name + \": \")\n",
        "    print(\"-\" * 10)\n",
        "    print(\"ACC-->\",accuracy_score(yTest,predict))\n",
        "    print(\"R2CV-->\",R2CV*100)\n",
        "    print(\"MEAN SQUARED ERROR-->\",np.sqrt(error))\n",
        "    print(\"-\" * 30)"
      ],
      "metadata": {
        "trusted": true,
        "id": "RAuBBdoWSsy9"
      },
      "execution_count": null,
      "outputs": []
    },
    {
      "cell_type": "code",
      "source": [
        "lm = LinearRegression().fit(xTrain,yTrain)\n",
        "pls = PLSRegression().fit(xTrain,yTrain)\n",
        "ridge = Ridge().fit(xTrain,yTrain)\n",
        "lasso = Lasso().fit(xTrain,yTrain)\n",
        "elasticnet = ElasticNet().fit(xTrain,yTrain)\n",
        "knnr = KNeighborsRegressor().fit(xTrain,yTrain)\n",
        "cartr = DecisionTreeRegressor(random_state=42).fit(xTrain,yTrain)\n",
        "baggr = BaggingRegressor(random_state=42,bootstrap_features=True,verbose=False).fit(xTrain,yTrain)\n",
        "rfr = RandomForestRegressor(random_state=42,verbose=False).fit(xTrain,yTrain)\n",
        "gbmr = GradientBoostingRegressor(verbose=False).fit(xTrain,yTrain)\n",
        "xgbr = XGBRegressor().fit(xTrain,yTrain)\n",
        "lgbmr = LGBMRegressor().fit(xTrain,yTrain)\n",
        "catbr = CatBoostRegressor(verbose=False).fit(xTrain,yTrain)"
      ],
      "metadata": {
        "trusted": true,
        "id": "XjGJ6Rm8Ssy9"
      },
      "execution_count": null,
      "outputs": []
    },
    {
      "cell_type": "code",
      "source": [
        "models = [lm,pls,ridge,lasso,elasticnet,knnr,\n",
        "         cartr,baggr,rfr,gbmr,xgbr,lgbmr,catbr]"
      ],
      "metadata": {
        "trusted": true,
        "id": "riLqYhU_Ssy-"
      },
      "execution_count": null,
      "outputs": []
    },
    {
      "cell_type": "code",
      "source": [
        "for model in models:\n",
        "    name = model.__class__.__name__\n",
        "    R2CV = cross_val_score(model,xTest,yTest,scoring=\"r2\").mean()\n",
        "    error = -cross_val_score(model,xTest,yTest,scoring=\"neg_mean_squared_error\").mean()\n",
        "    print(name + \": \")\n",
        "    print(\"-\" * 10)\n",
        "    print(R2CV)\n",
        "    print(np.sqrt(error))\n",
        "    print(\"-\" * 30)"
      ],
      "metadata": {
        "trusted": true,
        "id": "nmoHMcjPSsy-"
      },
      "execution_count": null,
      "outputs": []
    },
    {
      "cell_type": "markdown",
      "source": [
        "# IMAGE GENERATOR PROCESS"
      ],
      "metadata": {
        "id": "aVZfRqwySsy-"
      }
    },
    {
      "cell_type": "markdown",
      "source": [
        "#### APPLYING GENERATOR"
      ],
      "metadata": {
        "id": "j7EHlEBBSsy_"
      }
    },
    {
      "cell_type": "code",
      "source": [
        "Train_Generator = ImageDataGenerator(rescale=1./255,\n",
        "                                    zoom_range=0.7,\n",
        "                                    shear_range=0.7,\n",
        "                                    rotation_range=50,\n",
        "                                    horizontal_flip=True,\n",
        "                                     brightness_range=[0.2,0.9],\n",
        "                                     vertical_flip=True,\n",
        "                                    validation_split=0.1)"
      ],
      "metadata": {
        "trusted": true,
        "id": "8mKUxW3ySsy_"
      },
      "execution_count": null,
      "outputs": []
    },
    {
      "cell_type": "code",
      "source": [
        "Train_Spiral_Set = Train_Generator.flow_from_dataframe(dataframe=Main_Spiral_Train_Data,\n",
        "                                                   x_col=\"PNG\",\n",
        "                                                   y_col=\"CATEGORY\",\n",
        "                                                   color_mode=\"grayscale\",\n",
        "                                                   class_mode=\"categorical\",\n",
        "                                                       subset=\"training\")"
      ],
      "metadata": {
        "trusted": true,
        "id": "yKOmsXmBSsy_"
      },
      "execution_count": null,
      "outputs": []
    },
    {
      "cell_type": "code",
      "source": [
        "Validation_Spiral_Set = Train_Generator.flow_from_dataframe(dataframe=Main_Spiral_Train_Data,\n",
        "                                                   x_col=\"PNG\",\n",
        "                                                   y_col=\"CATEGORY\",\n",
        "                                                   color_mode=\"grayscale\",\n",
        "                                                   class_mode=\"categorical\",\n",
        "                                                       subset=\"validation\")"
      ],
      "metadata": {
        "trusted": true,
        "id": "aHjd1sGGSszA"
      },
      "execution_count": null,
      "outputs": []
    },
    {
      "cell_type": "code",
      "source": [
        "Test_Spiral_Set = Train_Generator.flow_from_dataframe(dataframe=Main_Spiral_Test_Data,\n",
        "                                                   x_col=\"PNG\",\n",
        "                                                   y_col=\"CATEGORY\",\n",
        "                                                   color_mode=\"grayscale\",\n",
        "                                                   class_mode=\"categorical\")"
      ],
      "metadata": {
        "trusted": true,
        "id": "MiTKLy-ZSszA"
      },
      "execution_count": null,
      "outputs": []
    },
    {
      "cell_type": "code",
      "source": [
        "print(\"TRAIN: \")\n",
        "print(Train_Spiral_Set.class_indices)\n",
        "print(Train_Spiral_Set.classes[0:5])\n",
        "print(Train_Spiral_Set.image_shape)\n",
        "print(\"---\"*20)\n",
        "print(\"VALIDATION: \")\n",
        "print(Validation_Spiral_Set.class_indices)\n",
        "print(Validation_Spiral_Set.classes[0:5])\n",
        "print(Validation_Spiral_Set.image_shape)\n",
        "print(\"---\"*20)\n",
        "print(\"TEST: \")\n",
        "print(Test_Spiral_Set.class_indices)\n",
        "print(Test_Spiral_Set.classes[0:5])\n",
        "print(Test_Spiral_Set.image_shape)"
      ],
      "metadata": {
        "trusted": true,
        "id": "n-dr2qqhSszA"
      },
      "execution_count": null,
      "outputs": []
    },
    {
      "cell_type": "markdown",
      "source": [
        "#### TRANSFORMATION"
      ],
      "metadata": {
        "id": "QQFlNPrhSszB"
      }
    },
    {
      "cell_type": "code",
      "source": [
        "example_Image = Main_Spiral_Train_Data[\"PNG\"][30]\n",
        "Load_Image = image.load_img(example_Image,target_size=(210,210))\n",
        "Array_Image = image.img_to_array(Load_Image)\n",
        "Array_Image = Array_Image.reshape((1,) + Array_Image.shape)\n",
        "i = 0\n",
        "for batch in Train_Generator.flow(Array_Image,batch_size=5):\n",
        "    plt.figure(i)\n",
        "    Image = plt.imshow(image.img_to_array(batch[0]))\n",
        "    i += 1\n",
        "    if i % 4 == 0:\n",
        "        break\n",
        "plt.show()"
      ],
      "metadata": {
        "trusted": true,
        "id": "QSv4Jb3DSszB"
      },
      "execution_count": null,
      "outputs": []
    },
    {
      "cell_type": "markdown",
      "source": [
        "# MODEL"
      ],
      "metadata": {
        "id": "KN4ulnjbSszB"
      }
    },
    {
      "cell_type": "markdown",
      "source": [
        "#### CNN"
      ],
      "metadata": {
        "id": "a4T7ihNvSszB"
      }
    },
    {
      "cell_type": "code",
      "source": [
        "Call_Back_Early = tf.keras.callbacks.EarlyStopping(monitor=\"val_accuracy\",\n",
        "                                                   patience=7,\n",
        "                                                   mode=\"max\")\n",
        "Call_Back_Check = tf.keras.callbacks.ModelCheckpoint(monitor=\"val_accuracy\",\n",
        "                                                     save_best_only=True,\n",
        "                                                     filepath=\"./my_model\")"
      ],
      "metadata": {
        "trusted": true,
        "id": "kEPXPPNASszC"
      },
      "execution_count": null,
      "outputs": []
    },
    {
      "cell_type": "code",
      "source": [
        "Model_One = Sequential()\n",
        "\n",
        "#\n",
        "Model_One.add(Conv2D(2,(15,15),activation=\"relu\",\n",
        "                 input_shape=(256,256,1)))\n",
        "Model_One.add(MaxPooling2D((2,2)))\n",
        "Model_One.add(Dropout(0.2))\n",
        "#\n",
        "Model_One.add(Conv2D(4,(10,10),activation=\"relu\",\n",
        "                 strides=(2,2)))\n",
        "Model_One.add(MaxPooling2D((2,2)))\n",
        "Model_One.add(Dropout(0.2))\n",
        "\n",
        "#\n",
        "Model_One.add(Flatten())\n",
        "Model_One.add(Dropout(0.5))\n",
        "Model_One.add(Dense(512,activation=\"relu\"))\n",
        "Model_One.add(Dense(2,activation=\"softmax\"))"
      ],
      "metadata": {
        "trusted": true,
        "id": "H0yTV7y6SszC"
      },
      "execution_count": null,
      "outputs": []
    },
    {
      "cell_type": "code",
      "source": [
        "Model_One.compile(optimizer=RMSprop(lr=0.001),loss=\"categorical_crossentropy\",metrics=[\"accuracy\"])"
      ],
      "metadata": {
        "trusted": true,
        "id": "9oY_eUVISszC"
      },
      "execution_count": null,
      "outputs": []
    },
    {
      "cell_type": "code",
      "source": [
        "CNN_Model_One = Model_One.fit(Train_Spiral_Set,\n",
        "                      validation_data=Validation_Spiral_Set,\n",
        "                            callbacks=[Call_Back_Check,Call_Back_Early],\n",
        "                      epochs=50)"
      ],
      "metadata": {
        "trusted": true,
        "id": "x3iZpDpQSszC"
      },
      "execution_count": null,
      "outputs": []
    },
    {
      "cell_type": "code",
      "source": [
        "Model_Results = Model_One.evaluate(Test_Spiral_Set)\n",
        "print(\"LOSS:  \" + \"%.4f\" % Model_Results[0])\n",
        "print(\"ACCURACY:  \" + \"%.2f\" % Model_Results[1])"
      ],
      "metadata": {
        "trusted": true,
        "id": "5L4g2dwsSszD"
      },
      "execution_count": null,
      "outputs": []
    },
    {
      "cell_type": "markdown",
      "source": [
        "#### ANN"
      ],
      "metadata": {
        "id": "pmlywlRJSszD"
      }
    },
    {
      "cell_type": "code",
      "source": [
        "Model_Two = tf.keras.models.Sequential([\n",
        "  # inputs\n",
        "  tf.keras.layers.experimental.preprocessing.Rescaling(1./255),\n",
        "  tf.keras.layers.Flatten(input_shape=(113,)),\n",
        "  # hiddens layers\n",
        "    tf.keras.layers.Dense(10, activation='relu'),\n",
        "  tf.keras.layers.Dropout(0.2),\n",
        "  # output layer\n",
        "  tf.keras.layers.Dense(2,activation=\"softmax\")\n",
        "])"
      ],
      "metadata": {
        "trusted": true,
        "id": "d0zMuTpLSszD"
      },
      "execution_count": null,
      "outputs": []
    },
    {
      "cell_type": "code",
      "source": [
        "lossfunc = tf.keras.losses.CategoricalCrossentropy(from_logits=True)"
      ],
      "metadata": {
        "trusted": true,
        "id": "kmJEjahGSszD"
      },
      "execution_count": null,
      "outputs": []
    },
    {
      "cell_type": "code",
      "source": [
        "Model_Two.compile(optimizer='adam', loss=lossfunc, metrics=['accuracy'])"
      ],
      "metadata": {
        "trusted": true,
        "id": "2JemRwAHSszE"
      },
      "execution_count": null,
      "outputs": []
    },
    {
      "cell_type": "code",
      "source": [
        "ANN_Model = Model_Two.fit(Train_Spiral_Set,\n",
        "                      validation_data=Validation_Spiral_Set,\n",
        "                      epochs=50,batch_size=10)"
      ],
      "metadata": {
        "trusted": true,
        "id": "QxvL44D-SszE"
      },
      "execution_count": null,
      "outputs": []
    },
    {
      "cell_type": "code",
      "source": [
        "Model_Results_Two = Model_Two.evaluate(Test_Spiral_Set)\n",
        "print(\"LOSS:  \" + \"%.4f\" % Model_Results[0])\n",
        "print(\"ACCURACY:  \" + \"%.2f\" % Model_Results[1])"
      ],
      "metadata": {
        "trusted": true,
        "id": "G1wu1Kg2SszE"
      },
      "execution_count": null,
      "outputs": []
    },
    {
      "cell_type": "markdown",
      "source": [
        "# PREDICTION PROCESS"
      ],
      "metadata": {
        "id": "hPxiC0SLSszE"
      }
    },
    {
      "cell_type": "markdown",
      "source": [
        "#### CNN"
      ],
      "metadata": {
        "id": "zNQhmRkrSszF"
      }
    },
    {
      "cell_type": "code",
      "source": [
        "Prediction_One = Model_One.predict(Test_Spiral_Set)\n",
        "Prediction_One = Prediction_One.argmax(axis=-1)"
      ],
      "metadata": {
        "trusted": true,
        "id": "6mapVbhlSszF"
      },
      "execution_count": null,
      "outputs": []
    },
    {
      "cell_type": "code",
      "source": [
        "Predict_Proba_One = Model_One.predict_proba(Test_Spiral_Set)"
      ],
      "metadata": {
        "trusted": true,
        "id": "pqeTbBXhSszF"
      },
      "execution_count": null,
      "outputs": []
    },
    {
      "cell_type": "markdown",
      "source": [
        "#### ANN"
      ],
      "metadata": {
        "id": "j1gQjRekSszF"
      }
    },
    {
      "cell_type": "code",
      "source": [
        "Prediction_Two = Model_Two.predict(Test_Spiral_Set)\n",
        "Prediction_Two = Prediction_Two.argmax(axis=-1)"
      ],
      "metadata": {
        "trusted": true,
        "id": "nUN8wQndSszF"
      },
      "execution_count": null,
      "outputs": []
    },
    {
      "cell_type": "code",
      "source": [
        "Predict_Proba_Two = Model_Two.predict_proba(Test_Spiral_Set)"
      ],
      "metadata": {
        "trusted": true,
        "id": "P4_PSebESszG"
      },
      "execution_count": null,
      "outputs": []
    },
    {
      "cell_type": "markdown",
      "source": [
        "#### COMMUNITY"
      ],
      "metadata": {
        "id": "_HOTChpKSszG"
      }
    },
    {
      "cell_type": "code",
      "source": [
        "Main_Predict = 0.5 * (Predict_Proba_One + Predict_Proba_Two)"
      ],
      "metadata": {
        "trusted": true,
        "id": "bsfuoxgKSszG"
      },
      "execution_count": null,
      "outputs": []
    },
    {
      "cell_type": "code",
      "source": [
        "print(Main_Predict)"
      ],
      "metadata": {
        "trusted": true,
        "id": "K0cjcKlRSszG"
      },
      "execution_count": null,
      "outputs": []
    },
    {
      "cell_type": "code",
      "source": [
        "fig, axes = plt.subplots(nrows=5,\n",
        "                         ncols=5,\n",
        "                         figsize=(20, 20),\n",
        "                        subplot_kw={'xticks': [], 'yticks': []})\n",
        "\n",
        "for i, ax in enumerate(axes.flat):\n",
        "    ax.imshow(plt.imread(Main_Spiral_Test_Data[\"PNG\"].iloc[i]))\n",
        "    ax.set_title(f\"PREDICTION:{Main_Predict[i]}\")\n",
        "plt.tight_layout()\n",
        "plt.show()"
      ],
      "metadata": {
        "trusted": true,
        "id": "ANvv1ZLUSszH"
      },
      "execution_count": null,
      "outputs": []
    }
  ]
}